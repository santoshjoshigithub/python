{
 "cells": [
  {
   "cell_type": "markdown",
   "metadata": {},
   "source": [
    "# Lambda:\n",
    "\n",
    "## Quick Notes:\n",
    "1. Lambda is an inline function which are also known as anonymous functions\n",
    "2. The general syntax of lambda is: \"lambda arguments : expressions\"\n",
    "\n",
    "## Questions:\n",
    "1. Is Lambda faster than normal function?\n",
    "2. When to use Lambda?\n",
    "3. what makes it so special?\n",
    "4. diff. b/w lambda and normal function?\n",
    "5. how python treats lambda and normal functions internally?\n",
    "6. Lambda with map, filter and reduce functions\n",
    "7. Lambda with apply\n",
    "8. Lamda with List Comprehension\n",
    "\n",
    "## References:\n",
    "1. https://realpython.com/python-lambda/"
   ]
  },
  {
   "cell_type": "code",
   "execution_count": 17,
   "metadata": {},
   "outputs": [
    {
     "data": {
      "text/plain": [
       "8"
      ]
     },
     "execution_count": 17,
     "metadata": {},
     "output_type": "execute_result"
    }
   ],
   "source": [
    "#using normal function..\n",
    "\n",
    "def func1(x):\n",
    "    return x*2\n",
    "func1(4)"
   ]
  },
  {
   "cell_type": "code",
   "execution_count": 18,
   "metadata": {},
   "outputs": [
    {
     "data": {
      "text/plain": [
       "8"
      ]
     },
     "execution_count": 18,
     "metadata": {},
     "output_type": "execute_result"
    }
   ],
   "source": [
    "## using lambda..\n",
    "\n",
    "func2 = lambda x : x*2\n",
    "func2(4)"
   ]
  },
  {
   "cell_type": "code",
   "execution_count": 19,
   "metadata": {},
   "outputs": [
    {
     "name": "stdout",
     "output_type": "stream",
     "text": [
      "  4           0 LOAD_FAST                0 (x)\n",
      "              2 LOAD_CONST               1 (2)\n",
      "              4 BINARY_MULTIPLY\n",
      "              6 RETURN_VALUE\n"
     ]
    }
   ],
   "source": [
    "#disassembling python code..\n",
    "\n",
    "import dis\n",
    "dis.dis(func1)"
   ]
  },
  {
   "cell_type": "code",
   "execution_count": 20,
   "metadata": {},
   "outputs": [
    {
     "name": "stdout",
     "output_type": "stream",
     "text": [
      "  3           0 LOAD_FAST                0 (x)\n",
      "              2 LOAD_CONST               1 (2)\n",
      "              4 BINARY_MULTIPLY\n",
      "              6 RETURN_VALUE\n"
     ]
    }
   ],
   "source": [
    "dis.dis(func2)"
   ]
  },
  {
   "cell_type": "code",
   "execution_count": 21,
   "metadata": {},
   "outputs": [
    {
     "data": {
      "text/plain": [
       "<function __main__.func1(x)>"
      ]
     },
     "execution_count": 21,
     "metadata": {},
     "output_type": "execute_result"
    }
   ],
   "source": [
    "func1"
   ]
  },
  {
   "cell_type": "code",
   "execution_count": 22,
   "metadata": {},
   "outputs": [
    {
     "data": {
      "text/plain": [
       "<function __main__.<lambda>(x)>"
      ]
     },
     "execution_count": 22,
     "metadata": {},
     "output_type": "execute_result"
    }
   ],
   "source": [
    "func2"
   ]
  },
  {
   "cell_type": "markdown",
   "metadata": {},
   "source": [
    "## Note:\n",
    "The byte code is same for both the functions (regular and lambda - func1 and func2) whereas the names are different."
   ]
  },
  {
   "cell_type": "code",
   "execution_count": 23,
   "metadata": {},
   "outputs": [
    {
     "data": {
      "text/plain": [
       "[2, 4, 6, 8, 10]"
      ]
     },
     "execution_count": 23,
     "metadata": {},
     "output_type": "execute_result"
    }
   ],
   "source": [
    "# following is a code for doubling each element of a list..\n",
    "\n",
    "x = [1,2,3,4,5]\n",
    "y = []\n",
    "for i in x:\n",
    "    y.append(i*2)\n",
    "y"
   ]
  },
  {
   "cell_type": "code",
   "execution_count": 26,
   "metadata": {},
   "outputs": [
    {
     "data": {
      "text/plain": [
       "[2, 4, 6, 8, 10]"
      ]
     },
     "execution_count": 26,
     "metadata": {},
     "output_type": "execute_result"
    }
   ],
   "source": [
    "# map(function_to_apply, input). Map function applies a function to all the items in the collection..\n",
    "# let's do it with more elegant (IMO) and conise manner using Map and Lambda..\n",
    "\n",
    "y = list(map(lambda i : i * 2, x))\n",
    "y"
   ]
  },
  {
   "cell_type": "code",
   "execution_count": 29,
   "metadata": {},
   "outputs": [
    {
     "data": {
      "text/plain": [
       "[2, 4, 6, 8, 10, 12, 14, 16, 18]"
      ]
     },
     "execution_count": 29,
     "metadata": {},
     "output_type": "execute_result"
    }
   ],
   "source": [
    "# Filter creates a list of elements where the condition is true.\n",
    "# Syntax of Filter function is Filter (function_to_be_applied, inputs)\n",
    "x = range (1,20)\n",
    "even = list(filter(lambda i : i % 2 == 0, x))\n",
    "even"
   ]
  },
  {
   "cell_type": "code",
   "execution_count": 30,
   "metadata": {},
   "outputs": [
    {
     "data": {
      "text/plain": [
       "<filter at 0x1b7aa20de08>"
      ]
     },
     "execution_count": 30,
     "metadata": {},
     "output_type": "execute_result"
    }
   ],
   "source": [
    "filter(lambda i : i % 2 == 0, x)"
   ]
  },
  {
   "cell_type": "code",
   "execution_count": 37,
   "metadata": {},
   "outputs": [
    {
     "data": {
      "text/plain": [
       "6"
      ]
     },
     "execution_count": 37,
     "metadata": {},
     "output_type": "execute_result"
    }
   ],
   "source": [
    "# Reduce is good for rolling computations..\n",
    "# In below code, it sums up all the integer values which are present in x = [1,2,3] i.e. 6..\n",
    "\n",
    "from functools import reduce\n",
    "x = range (1,4)\n",
    "total_sum = reduce(lambda p,q : p+q, x)\n",
    "total_sum"
   ]
  }
 ],
 "metadata": {
  "kernelspec": {
   "display_name": "Python 3",
   "language": "python",
   "name": "python3"
  },
  "language_info": {
   "codemirror_mode": {
    "name": "ipython",
    "version": 3
   },
   "file_extension": ".py",
   "mimetype": "text/x-python",
   "name": "python",
   "nbconvert_exporter": "python",
   "pygments_lexer": "ipython3",
   "version": "3.7.7"
  }
 },
 "nbformat": 4,
 "nbformat_minor": 4
}
